{
 "cells": [
  {
   "cell_type": "code",
   "execution_count": 1,
   "metadata": {},
   "outputs": [
    {
     "name": "stdout",
     "output_type": "stream",
     "text": [
      "Subsystem1: Ready!\n",
      "Subsystem2: Ready!\n"
     ]
    }
   ],
   "source": [
    "class Subsystem1:\n",
    "    def operation1(self):\n",
    "        \"\"\"Subsystem1 operation\"\"\"\n",
    "        return \"Subsystem1: Ready!\"\n",
    "\n",
    "\n",
    "class Subsystem2:\n",
    "    def operation2(self):\n",
    "        \"\"\"Subsystem2 operation\"\"\"\n",
    "        return \"Subsystem2: Ready!\"\n",
    "\n",
    "\n",
    "class Facade:\n",
    "    def __init__(self):\n",
    "        \"\"\"Initialize subsystem objects\"\"\"\n",
    "        self._subsystem1 = Subsystem1()\n",
    "        self._subsystem2 = Subsystem2()\n",
    "\n",
    "    def operation(self):\n",
    "        \"\"\"Facade operation: coordinating subsystems\"\"\"\n",
    "        result = []\n",
    "        result.append(self._subsystem1.operation1())\n",
    "        result.append(self._subsystem2.operation2())\n",
    "        return \"\\n\".join(result)\n",
    "\n",
    "\n",
    "def client_code(facade):\n",
    "    \"\"\"Client code utilizing the facade\"\"\"\n",
    "    print(facade.operation())\n",
    "\n",
    "\n",
    "# Usage\n",
    "if __name__ == \"__main__\":\n",
    "    facade = Facade()\n",
    "    client_code(facade)\n"
   ]
  },
  {
   "cell_type": "code",
   "execution_count": 2,
   "metadata": {},
   "outputs": [
    {
     "name": "stdout",
     "output_type": "stream",
     "text": [
      "Payment of $100 processed via PayPal\n",
      "Payment of $150 processed via Stripe\n",
      "Payment of $200 processed via Crypto (Bitcoin)\n",
      "Invalid gateway selection\n"
     ]
    }
   ],
   "source": [
    "from abc import ABC, abstractmethod\n",
    "\n",
    "# Step 1: Create Subsystem Classes for Payment Gateways\n",
    "\n",
    "\n",
    "class PayPalGateway:\n",
    "    def process_payment(self, amount):\n",
    "        return f\"Payment of ${amount} processed via PayPal\"\n",
    "\n",
    "\n",
    "class StripeGateway:\n",
    "    def pay(self, amount):\n",
    "        return f\"Payment of ${amount} processed via Stripe\"\n",
    "\n",
    "\n",
    "class CryptoGateway:\n",
    "    def make_payment(self, amount):\n",
    "        return f\"Payment of ${amount} processed via Crypto (Bitcoin)\"\n",
    "\n",
    "\n",
    "# Step 2: Implement Facade Class\n",
    "\n",
    "\n",
    "class PaymentFacade:\n",
    "    def __init__(self):\n",
    "        self._paypal = PayPalGateway()\n",
    "        self._stripe = StripeGateway()\n",
    "        self._crypto = CryptoGateway()\n",
    "\n",
    "    def process_payment(self, amount, gateway):\n",
    "        \"\"\"Processes payment through the selected gateway.\"\"\"\n",
    "        if gateway == \"paypal\":\n",
    "            return self._paypal.process_payment(amount)\n",
    "        elif gateway == \"stripe\":\n",
    "            return self._stripe.pay(amount)\n",
    "        elif gateway == \"crypto\":\n",
    "            return self._crypto.make_payment(amount)\n",
    "        else:\n",
    "            return \"Invalid gateway selection\"\n",
    "\n",
    "\n",
    "# Step 3: Utilize Facade in Client Code\n",
    "\n",
    "\n",
    "def main():\n",
    "    # Creating PaymentFacade instance\n",
    "    payment_facade = PaymentFacade()\n",
    "\n",
    "    # Process payments through different gateways\n",
    "    print(payment_facade.process_payment(100, \"paypal\"))\n",
    "    print(payment_facade.process_payment(150, \"stripe\"))\n",
    "    print(payment_facade.process_payment(200, \"crypto\"))\n",
    "    print(payment_facade.process_payment(300, \"invalid_gateway\"))\n",
    "\n",
    "\n",
    "if __name__ == \"__main__\":\n",
    "    main()\n"
   ]
  },
  {
   "cell_type": "code",
   "execution_count": null,
   "metadata": {},
   "outputs": [],
   "source": []
  }
 ],
 "metadata": {
  "kernelspec": {
   "display_name": "Python 3",
   "language": "python",
   "name": "python3"
  },
  "language_info": {
   "codemirror_mode": {
    "name": "ipython",
    "version": 3
   },
   "file_extension": ".py",
   "mimetype": "text/x-python",
   "name": "python",
   "nbconvert_exporter": "python",
   "pygments_lexer": "ipython3",
   "version": "3.12.3"
  }
 },
 "nbformat": 4,
 "nbformat_minor": 2
}
