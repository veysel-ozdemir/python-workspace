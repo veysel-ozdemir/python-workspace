{
 "cells": [
  {
   "cell_type": "code",
   "execution_count": 1,
   "metadata": {},
   "outputs": [
    {
     "name": "stdout",
     "output_type": "stream",
     "text": [
      "Database created\n",
      "{'id': 1, 'password': 'very-secret'}\n",
      "Database deleted\n"
     ]
    }
   ],
   "source": [
    "import pymysql.cursors\n",
    "\n",
    "# Create a connection\n",
    "connection = pymysql.connect(\n",
    "    host=\"localhost\",\n",
    "    user=\"test\",\n",
    "    password=\"test\",\n",
    ")\n",
    "\n",
    "# Create the cursor\n",
    "mycursor = connection.cursor()\n",
    "\n",
    "# Drop the database if it exists\n",
    "sql = \"DROP DATABASE IF EXISTS py_db\"\n",
    "mycursor.execute(sql)\n",
    "\n",
    "# Create the database\n",
    "sql = \"CREATE DATABASE py_db\"\n",
    "mycursor.execute(sql)\n",
    "print(\"Database created\")\n",
    "\n",
    "# Connect to the database\n",
    "connection = pymysql.connect(\n",
    "    host=\"localhost\",\n",
    "    user=\"test\",\n",
    "    password=\"test\",\n",
    "    database=\"py_db\",\n",
    "    charset=\"utf8mb4\",\n",
    "    cursorclass=pymysql.cursors.DictCursor,\n",
    ")\n",
    "\n",
    "# Assign the new cursor\n",
    "mycursor = connection.cursor()\n",
    "\n",
    "# Drop the table if it exists\n",
    "sql = \"DROP TABLE IF EXISTS users\"\n",
    "mycursor.execute(sql)\n",
    "\n",
    "# Create the table\n",
    "sql = \"\"\"CREATE TABLE `users` (\n",
    "            `id` int(11) NOT NULL AUTO_INCREMENT,\n",
    "            `email` varchar(255) COLLATE utf8_bin NOT NULL,\n",
    "            `password` varchar(255) COLLATE utf8_bin NOT NULL,\n",
    "            PRIMARY KEY (`id`)\n",
    "        ) ENGINE=InnoDB DEFAULT CHARSET=utf8mb4 COLLATE=utf8mb4_bin\n",
    "        AUTO_INCREMENT=1 ;\"\"\"\n",
    "mycursor.execute(sql)\n",
    "\n",
    "with connection:\n",
    "    with connection.cursor() as cursor:\n",
    "        # Create a new record\n",
    "        sql = \"INSERT INTO `users` (`email`, `password`) VALUES (%s, %s)\"\n",
    "        cursor.execute(sql, (\"webmaster@python.org\", \"very-secret\"))\n",
    "\n",
    "    # connection is not autocommit by default.\n",
    "    # So you must commit to save your changes.\n",
    "    connection.commit()\n",
    "\n",
    "    with connection.cursor() as cursor:\n",
    "        # Read a single record\n",
    "        sql = \"SELECT `id`, `password` FROM `users` WHERE `email`=%s\"\n",
    "        cursor.execute(sql, (\"webmaster@python.org\",))\n",
    "        result = cursor.fetchone()\n",
    "        print(result)\n",
    "\n",
    "        # Delete the database\n",
    "        sql = \"DROP DATABASE IF EXISTS py_db\"\n",
    "        cursor.execute(sql)\n",
    "        print(\"Database deleted\")\n"
   ]
  },
  {
   "cell_type": "code",
   "execution_count": null,
   "metadata": {},
   "outputs": [],
   "source": []
  }
 ],
 "metadata": {
  "kernelspec": {
   "display_name": "Python 3",
   "language": "python",
   "name": "python3"
  },
  "language_info": {
   "codemirror_mode": {
    "name": "ipython",
    "version": 3
   },
   "file_extension": ".py",
   "mimetype": "text/x-python",
   "name": "python",
   "nbconvert_exporter": "python",
   "pygments_lexer": "ipython3",
   "version": "3.12.3"
  }
 },
 "nbformat": 4,
 "nbformat_minor": 2
}
