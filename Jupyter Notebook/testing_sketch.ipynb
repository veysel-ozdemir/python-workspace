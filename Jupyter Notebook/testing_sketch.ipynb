{
 "cells": [
  {
   "cell_type": "code",
   "execution_count": 2,
   "metadata": {},
   "outputs": [
    {
     "name": "stdout",
     "output_type": "stream",
     "text": [
      "['apple', 'grape', 'pear', 'kiwi', 'melon', 'mango']\n"
     ]
    }
   ],
   "source": [
    "# change a range of item values\n",
    "mylist = [\"apple\", \"banana\", \"cherry\", \"orange\", \"kiwi\", \"melon\", \"mango\"]\n",
    "mylist[1:4] = [\"grape\", \"pear\"]\n",
    "print(mylist)"
   ]
  },
  {
   "cell_type": "code",
   "execution_count": 9,
   "metadata": {},
   "outputs": [
    {
     "name": "stdout",
     "output_type": "stream",
     "text": [
      "['orange', 'cherry', 'banana', 'apple']\n"
     ]
    }
   ],
   "source": [
    "# insert items\n",
    "mylist = [\"apple\", \"banana\", \"cherry\"]\n",
    "mylist.insert(1, \"orange\")\n",
    "mylist.sort(reverse=True)\n",
    "print(mylist)"
   ]
  },
  {
   "cell_type": "code",
   "execution_count": 7,
   "metadata": {},
   "outputs": [
    {
     "name": "stdout",
     "output_type": "stream",
     "text": [
      "apple\n",
      "banana\n",
      "cherry\n"
     ]
    },
    {
     "data": {
      "text/plain": [
       "[None, None, None]"
      ]
     },
     "execution_count": 7,
     "metadata": {},
     "output_type": "execute_result"
    }
   ],
   "source": [
    "# looping using list comprehension\n",
    "mylist = [\"apple\", \"banana\", \"cherry\"]\n",
    "[print(x) for x in mylist]"
   ]
  },
  {
   "cell_type": "code",
   "execution_count": 14,
   "metadata": {},
   "outputs": [
    {
     "name": "stdout",
     "output_type": "stream",
     "text": [
      "('apple', 'banana', 'cherry', 'orange')\n"
     ]
    }
   ],
   "source": [
    "mytuple = (\"apple\", \"banana\", \"cherry\")\n",
    "newtuple=(\"orange\",)\n",
    "mytuple += newtuple\n",
    "print(mytuple)"
   ]
  },
  {
   "cell_type": "code",
   "execution_count": 21,
   "metadata": {},
   "outputs": [
    {
     "name": "stdout",
     "output_type": "stream",
     "text": [
      "<class 'tuple'>\n",
      "<class 'tuple'>\n",
      "<class 'tuple'>\n"
     ]
    }
   ],
   "source": [
    "mydict = {\"brand\": \"Ford\", \"model\": \"Mustang\",\"year\": 1964}\n",
    "for x in mydict.items():\n",
    "    print(type(x))\n"
   ]
  },
  {
   "cell_type": "code",
   "execution_count": 29,
   "metadata": {},
   "outputs": [
    {
     "name": "stdout",
     "output_type": "stream",
     "text": [
      "(6, 6, 6, 6, 6)\n"
     ]
    }
   ],
   "source": [
    "x = lambda a, *b : a * b\n",
    "print(x(5, 6))"
   ]
  },
  {
   "cell_type": "code",
   "execution_count": 30,
   "metadata": {},
   "outputs": [
    {
     "name": "stdout",
     "output_type": "stream",
     "text": [
      "X, Y\n",
      "T, Z\n"
     ]
    }
   ],
   "source": [
    "class Person:\n",
    " def __init__(self, fname, lname):\n",
    "  self.firstname = fname\n",
    "  self.lastname = lname\n",
    " def printname(self):\n",
    "  print(self)\n",
    " def __str__(self) -> str:\n",
    "  return f\"{self.firstname}, {self.lastname}\"\n",
    "x = Person(\"X\", \"Y\")\n",
    "x.printname()\n",
    "class Student(Person):\n",
    " pass\n",
    "x = Student(\"T\", \"Z\")\n",
    "x.printname()"
   ]
  },
  {
   "cell_type": "code",
   "execution_count": 34,
   "metadata": {},
   "outputs": [
    {
     "name": "stdout",
     "output_type": "stream",
     "text": [
      "Number of instances: 1\n",
      "Number of instances: 2\n",
      "Number of instances: 1\n",
      "Number of instances: 0\n"
     ]
    }
   ],
   "source": [
    "class C:\n",
    "    counter = 0\n",
    "    def __init__(self):\n",
    "        C.counter += 1 # type(self).counter += 1\n",
    "    def __del__(self):\n",
    "        type(self).counter -= 1\n",
    "\n",
    "x = C()\n",
    "print(f\"Number of instances: {C.counter}\")\n",
    "y = C()\n",
    "print(f\"Number of instances: {C.counter}\")\n",
    "del x\n",
    "print(f\"Number of instances: {C.counter}\")\n",
    "del y\n",
    "print(f\"Number of instances: {C.counter}\")"
   ]
  },
  {
   "cell_type": "code",
   "execution_count": 48,
   "metadata": {},
   "outputs": [
    {
     "name": "stdout",
     "output_type": "stream",
     "text": [
      "1000\n",
      "1000\n"
     ]
    }
   ],
   "source": [
    "class P:\n",
    "    def __init__(self, val):\n",
    "        self.xset = val\n",
    "    @property\n",
    "    def xget(self):\n",
    "        return self.__x\n",
    "    @xget.setter\n",
    "    def xset(self, n):\n",
    "        if n < 0:\n",
    "            self.__x = 0\n",
    "        elif n > 1000:\n",
    "            self.__x = 1000\n",
    "        else:\n",
    "            self.__x = n\n",
    "\n",
    "p = P(1001)\n",
    "print(p.xget)\n",
    "p.xset = 1001\n",
    "print(p.xget)"
   ]
  },
  {
   "cell_type": "code",
   "execution_count": 9,
   "metadata": {},
   "outputs": [
    {
     "name": "stdout",
     "output_type": "stream",
     "text": [
      "Inside decorator\n",
      "Inside inner function\n",
      "I like Python\n",
      "Inside actual function\n"
     ]
    }
   ],
   "source": [
    "def decorator(*args, **kwargs):\n",
    "    print(\"Inside decorator\")\n",
    "    def inner(func):\n",
    "        print(\"Inside inner function\")\n",
    "        print(\"I like\", kwargs['like'])\n",
    "        func()\n",
    "    return inner\n",
    "@decorator(like = \"Python\")\n",
    "def my_func():\n",
    "    print(\"Inside actual function\")"
   ]
  },
  {
   "cell_type": "code",
   "execution_count": 10,
   "metadata": {},
   "outputs": [
    {
     "name": "stdout",
     "output_type": "stream",
     "text": [
      "I like Python\n",
      "Summation of values:35\n",
      "Hello\n",
      "my\n",
      "Python\n"
     ]
    }
   ],
   "source": [
    "def decorator_func(x, y):\n",
    "    def inner(func):\n",
    "        def wrapper(*args, **kwargs):\n",
    "            print(\"I like Python\")\n",
    "            print(\"Summation of values:\" + str(x+y) )\n",
    "            func(*args, **kwargs)\n",
    "        return wrapper\n",
    "    return inner\n",
    "def my_fun(*args):\n",
    "    for arg in args:\n",
    "        print(arg)\n",
    "decorator_func(10, 25)(my_fun)('Hello', 'my', 'Python')"
   ]
  },
  {
   "cell_type": "code",
   "execution_count": 11,
   "metadata": {},
   "outputs": [
    {
     "name": "stdout",
     "output_type": "stream",
     "text": [
      "(3, 3, 3, 3, 3)\n"
     ]
    }
   ],
   "source": [
    "t = (3,)\n",
    "n = 5\n",
    "\n",
    "print(t * n) # not (15,) but (3,3,3,3,3)"
   ]
  },
  {
   "cell_type": "code",
   "execution_count": null,
   "metadata": {},
   "outputs": [],
   "source": []
  }
 ],
 "metadata": {
  "kernelspec": {
   "display_name": "Python 3",
   "language": "python",
   "name": "python3"
  },
  "language_info": {
   "codemirror_mode": {
    "name": "ipython",
    "version": 3
   },
   "file_extension": ".py",
   "mimetype": "text/x-python",
   "name": "python",
   "nbconvert_exporter": "python",
   "pygments_lexer": "ipython3",
   "version": "3.12.3"
  }
 },
 "nbformat": 4,
 "nbformat_minor": 2
}
